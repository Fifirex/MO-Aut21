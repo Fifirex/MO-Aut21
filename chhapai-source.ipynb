{
  "nbformat": 4,
  "nbformat_minor": 0,
  "metadata": {
    "colab": {
      "name": "Q1,Q2,Q3.ipynb",
      "provenance": []
    },
    "kernelspec": {
      "name": "python3",
      "display_name": "Python 3"
    },
    "language_info": {
      "name": "python"
    }
  },
  "cells": [
    {
      "cell_type": "markdown",
      "metadata": {
        "id": "ayvP-7lTWp-G"
      },
      "source": [
        "\n",
        "\n",
        "```\n",
        "Question-1\n",
        "```\n",
        "\n"
      ]
    },
    {
      "cell_type": "code",
      "metadata": {
        "colab": {
          "base_uri": "https://localhost:8080/"
        },
        "id": "a4D8wbHFVFRQ",
        "outputId": "e0a9698f-e4f1-4ecb-ba4f-ba5b33f59c17"
      },
      "source": [
        "import pandas as pd\n",
        "import warnings\n",
        "warnings.filterwarnings(\"ignore\")\n",
        "\n",
        "data=pd.DataFrame({\"Mesh Number\":[4 ,6 ,8 ,10 ,14 ,20 ,28 ,35 ,48 ,65 ,100 ,150 ,200], \"Mass Fraction\":[0.0000,0.0251,0.1250,0.3207,0.2570,0.1590,0.0538,0.0210,0.0102,0.0077,0.0058,0.0041,0.0031]})\n",
        "#Assumption\n",
        "MassFlow=1000   #kg\n",
        "Density=2650    #kg/m3\n",
        "Sphericity=0.571\n",
        "\n",
        "Mass=[]\n",
        "for i in data['Mass Fraction']:\n",
        "  Mass.append(i*MassFlow)\n",
        "\n",
        "data['Mass']=Mass\n",
        "\n",
        "Volume=[]\n",
        "for i in data['Mass']:\n",
        "  Volume.append(i/Density)\n",
        "data['Volume']=Volume\n",
        "\n",
        "dv=[]\n",
        "for i in data['Volume']:\n",
        "  dv.append(((6*i)/3.14)**0.33)\n",
        "data['dm']=dv\n",
        "data['dv']=dv\n",
        "\n",
        "sp=[]\n",
        "for i in data['dv']:\n",
        "  sp.append((3.14*(i**2))/Sphericity)\n",
        "data['sp']=sp\n",
        "\n",
        "ds=[]\n",
        "for i in data['sp']:\n",
        "  ds.append((i/3.14)**0.5)\n",
        "data['ds']=ds\n",
        "\n",
        "dvs=[]\n",
        "for i in range(len(data)):\n",
        "  dvs.append((data['dv'][i]**3/data['ds'][i]**2))\n",
        "data['dvs']=dvs\n",
        "data_new= data[1:]\n",
        "sum_of_mass_fraction=0\n",
        "for i in data_new['Mass Fraction']:\n",
        "  sum_of_mass_fraction+=i\n",
        "\n",
        "num=0\n",
        "for i in range(len(data_new)):\n",
        "  num+=(data_new['Mass Fraction'][i+1]*data_new['dm'][i+1])\n",
        "Mass_mean_diameter=num/sum_of_mass_fraction\n",
        "\n",
        "num=0\n",
        "for i in range(len(data_new)):\n",
        "  num+=(data_new['Mass Fraction'][i+1]*data_new['dv'][i+1])\n",
        "Vol_mean_diameter=num/sum_of_mass_fraction\n",
        "\n",
        "num=0\n",
        "for i in range(len(data_new)):\n",
        "  num+=(data_new['Mass Fraction'][i+1]*data_new['dvs'][i+1])\n",
        "Vol_surface_mean_diameter=num/sum_of_mass_fraction\n",
        "\n",
        "num=0\n",
        "for i in range(len(data_new)):\n",
        "  num+=(data_new['Mass Fraction'][i+1]*data_new['sp'][i+1])\n",
        "Avg_surface_area=num/sum_of_mass_fraction\n",
        "\n",
        "print(\"sum_of_mass_fraction\",sum_of_mass_fraction)\n",
        "print(\"Mass_mean_diameter\",Mass_mean_diameter)\n",
        "print(\"Vol_mean_diameter\",Vol_mean_diameter)\n",
        "print(\"Vol_surface_mean_diameter\",Vol_surface_mean_diameter)\n",
        "print(\"Avg_surface_area\",Avg_surface_area)"
      ],
      "execution_count": null,
      "outputs": [
        {
          "output_type": "stream",
          "name": "stdout",
          "text": [
            "sum_of_mass_fraction 0.9925\n",
            "Mass_mean_diameter 0.5190740408251865\n",
            "Vol_mean_diameter 0.5190740408251865\n",
            "Vol_surface_mean_diameter 0.29639127731118137\n",
            "Avg_surface_area 1.553826259416451\n"
          ]
        }
      ]
    },
    {
      "cell_type": "markdown",
      "metadata": {
        "id": "Btlr7YuLP6Ga"
      },
      "source": [
        "\n",
        "\n",
        "```\n",
        "Question-2\n",
        "```\n",
        "\n",
        "\n"
      ]
    },
    {
      "cell_type": "code",
      "metadata": {
        "id": "5l_x2A3ICLIq",
        "colab": {
          "base_uri": "https://localhost:8080/",
          "height": 1000
        },
        "outputId": "f8a28fb3-ad7d-48bb-ea85-a6cfdc12fc3d"
      },
      "source": [
        "import pandas as pd\n",
        "import matplotlib.pyplot as plt\n",
        "\n",
        "mass_feed=[0.0107,0.0235,0.0672,0.0864,0.1087,0.1759,0.1397,0.1077,0.1013,0.0746,0.0501,0.033,0.0212]\n",
        "retained_oversize=[0.018,0.033,0.088,0.112,0.142,0.229,0.182,0.104,0.065,0.025,0.002,0,0]\n",
        "retained_undersize=[0,0,0,0,0,0,0.1023,0.1195,0.2198,0.2391,0.1877,0.1427,0.0912]\n",
        "\n",
        "def find_cummulative(retained):\n",
        "  phi = [0]\n",
        "  count = 0\n",
        "  for i in retained[::-1]:\n",
        "    temp = phi[count]+i\n",
        "    phi.append(temp)\n",
        "    count+=1\n",
        "  return phi\n",
        "\n",
        "phi_oversize = find_cummulative(retained_oversize)\n",
        "phi_undersize = find_cummulative(retained_undersize)\n",
        "phi_feed = find_cummulative(mass_feed)\n",
        "\n",
        "data = pd.DataFrame({\"Feed\":phi_feed[::-1],\"Xp\":phi_oversize[::-1],\"Xr\":phi_undersize[::-1]},columns={\"Feed\",\"Xp\",\"Xr\"})\n",
        "print(data,\"\\n\")\n",
        "\n",
        "plt.plot(phi_feed)\n",
        "plt.ylabel(\"Xf --->\")\n",
        "plt.title(\"Cumulative Mass Feed\")\n",
        "plt.show()\n",
        "\n",
        "plt.plot(phi_oversize,color=\"g\")\n",
        "plt.ylabel(\"Xp --->\")\n",
        "plt.title(\"Cumulative Oversize\")\n",
        "plt.show()\n",
        "\n",
        "plt.plot(phi_feed,color=\"r\")\n",
        "plt.ylabel(\"Xr --->\")\n",
        "plt.title(\"Cumulative Undersize\")\n",
        "plt.show()\n",
        "\n",
        "#Changes according to roll number\n",
        "yF = 1-phi_feed[3]\n",
        "yP = 1-phi_oversize[3]\t\n",
        "yR = 1-phi_undersize[3]\n",
        "\n",
        "recovery=yP/yF\n",
        "rejection=1-((1-yP)/(1-yF))\n",
        "effectiveness=recovery*rejection\n",
        "print(\" Recovery:\",'%.4f'%(recovery*100),\"%\\n\",\"Rejection:\",'%.4f'%(rejection*100),\"%\\n\",\"Effectiveness:\",'%.4f'%(effectiveness*100),\"%\\n\")"
      ],
      "execution_count": null,
      "outputs": [
        {
          "output_type": "stream",
          "name": "stdout",
          "text": [
            "        Xr     Xp    Feed\n",
            "0   1.1023  1.000  1.0000\n",
            "1   1.1023  0.982  0.9893\n",
            "2   1.1023  0.949  0.9658\n",
            "3   1.1023  0.861  0.8986\n",
            "4   1.1023  0.749  0.8122\n",
            "5   1.1023  0.607  0.7035\n",
            "6   1.1023  0.378  0.5276\n",
            "7   1.0000  0.196  0.3879\n",
            "8   0.8805  0.092  0.2802\n",
            "9   0.6607  0.027  0.1789\n",
            "10  0.4216  0.002  0.1043\n",
            "11  0.2339  0.000  0.0542\n",
            "12  0.0912  0.000  0.0212\n",
            "13  0.0000  0.000  0.0000 \n",
            "\n"
          ]
        },
        {
          "output_type": "display_data",
          "data": {
            "image/png": "[encoded data removed]",
            "text/plain": [
              "<Figure size 432x288 with 1 Axes>"
            ]
          },
          "metadata": {
            "needs_background": "light"
          }
        },
        {
          "output_type": "display_data",
          "data": {
            "image/png": "[encoded data removed]",
            "text/plain": [
              "<Figure size 432x288 with 1 Axes>"
            ]
          },
          "metadata": {
            "needs_background": "light"
          }
        },
        {
          "output_type": "display_data",
          "data": {
            "image/png": "[encoded data removed]",
            "text/plain": [
              "<Figure size 432x288 with 1 Axes>"
            ]
          },
          "metadata": {
            "needs_background": "light"
          }
        },
        {
          "output_type": "stream",
          "name": "stdout",
          "text": [
            " Recovery: 111.4212 %\n",
            " Rejection: 98.0825 %\n",
            " Effectiveness: 109.2847 %\n",
            "\n"
          ]
        }
      ]
    },
    {
      "cell_type": "markdown",
      "metadata": {
        "id": "9ekuJR3RQFmD"
      },
      "source": [
        "\n",
        "\n",
        "```\n",
        "Question-3\n",
        "```\n",
        "\n"
      ]
    },
    {
      "cell_type": "code",
      "metadata": {
        "colab": {
          "base_uri": "https://localhost:8080/"
        },
        "id": "fhke7I4OPkuC",
        "outputId": "8c4c0961-e9eb-47a6-d579-10ca851a95d8"
      },
      "source": [
        "import numpy as np\n",
        "mass_flow = 2000/3600 #Units:kg/s\n",
        "power = 8.54*746 #Units: watt\n",
        "diameter_feed = 0.025 #Units: m\n",
        "diameter_pdt = 0.018 #Units:m\n",
        "\n",
        "Kk = power/(mass_flow*np.log(diameter_feed/diameter_pdt)) #kicks law constant\n",
        "\n",
        "def kicks_law_power(Kk,diameter_feed,mass_flow,x):\n",
        "  new_diameter_pdt = 2*x/1000\n",
        "  return mass_flow*Kk*np.log(diameter_feed/new_diameter_pdt)\n",
        "#input_x\n",
        "x=7\n",
        "print(\"Power Consumption using Kick's law:\",'%4f'%kicks_law_power(Kk,diameter_feed,mass_flow,x),\"Watts\",\"(\",'%4f'%(kicks_law_power(Kk,diameter_feed,mass_flow,x)/746),\"HP )\")"
      ],
      "execution_count": null,
      "outputs": [
        {
          "output_type": "stream",
          "name": "stdout",
          "text": [
            "Power Consumption using Kick's law: 11244.703593 Watts ( 15.073329 HP )\n"
          ]
        }
      ]
    }
  ]
}